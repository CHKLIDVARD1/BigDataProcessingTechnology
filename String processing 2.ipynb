{
 "cells": [
  {
   "cell_type": "code",
   "execution_count": 159,
   "id": "8a9c8981",
   "metadata": {},
   "outputs": [],
   "source": [
    "from sklearn.feature_extraction.text import CountVectorizer\n",
    "import pymorphy2\n",
    "import pandas as pd\n",
    "import numpy as np\n",
    "from nltk import word_tokenize\n",
    "from nltk.metrics.distance import edit_distance\n",
    "from nltk.stem import SnowballStemmer\n",
    "from nltk.stem import WordNetLemmatizer\n",
    "from nltk.corpus import stopwords\n",
    "import re"
   ]
  },
  {
   "attachments": {
    "image.png": {
     "image/png": "[encoded data removed]"
    }
   },
   "cell_type": "markdown",
   "id": "0a92c4c6",
   "metadata": {},
   "source": [
    "![image.png](attachment:image.png)"
   ]
  },
  {
   "cell_type": "code",
   "execution_count": 15,
   "id": "ea1e6c38",
   "metadata": {},
   "outputs": [
    {
     "data": {
      "text/html": [
       "<div>\n",
       "<style scoped>\n",
       "    .dataframe tbody tr th:only-of-type {\n",
       "        vertical-align: middle;\n",
       "    }\n",
       "\n",
       "    .dataframe tbody tr th {\n",
       "        vertical-align: top;\n",
       "    }\n",
       "\n",
       "    .dataframe thead th {\n",
       "        text-align: right;\n",
       "    }\n",
       "</style>\n",
       "<table border=\"1\" class=\"dataframe\">\n",
       "  <thead>\n",
       "    <tr style=\"text-align: right;\">\n",
       "      <th></th>\n",
       "      <th>url</th>\n",
       "      <th>name</th>\n",
       "      <th>ingredients</th>\n",
       "      <th>description</th>\n",
       "    </tr>\n",
       "  </thead>\n",
       "  <tbody>\n",
       "    <tr>\n",
       "      <th>0</th>\n",
       "      <td>https://www.povarenok.ru/recipes/show/164365/</td>\n",
       "      <td>Густой молочно-клубничный коктейль</td>\n",
       "      <td>{'Молоко': '250 мл', 'Клубника': '200 г', 'Сах...</td>\n",
       "      <td>Этот коктейль готовлю из замороженной клубники...</td>\n",
       "    </tr>\n",
       "    <tr>\n",
       "      <th>1</th>\n",
       "      <td>https://www.povarenok.ru/recipes/show/1306/</td>\n",
       "      <td>Рулетики</td>\n",
       "      <td>{'Сыр твердый': None, 'Чеснок': None, 'Яйцо ку...</td>\n",
       "      <td>Быстро и вкусно.</td>\n",
       "    </tr>\n",
       "    <tr>\n",
       "      <th>2</th>\n",
       "      <td>https://www.povarenok.ru/recipes/show/10625/</td>\n",
       "      <td>Салат \"Баклажанчик\"</td>\n",
       "      <td>{'Баклажан': '3 шт', 'Лук репчатый': '2 шт', '...</td>\n",
       "      <td>Сытный, овощной салатик, пальчики оближете.</td>\n",
       "    </tr>\n",
       "    <tr>\n",
       "      <th>3</th>\n",
       "      <td>https://www.povarenok.ru/recipes/show/167337/</td>\n",
       "      <td>Куриные котлеты с картофельным пюре в духовке</td>\n",
       "      <td>{'Фарш куриный': '800 г', 'Пюре картофельное':...</td>\n",
       "      <td>Картофельное пюре и куриные котлеты - вкусная ...</td>\n",
       "    </tr>\n",
       "    <tr>\n",
       "      <th>4</th>\n",
       "      <td>https://www.povarenok.ru/recipes/show/91919/</td>\n",
       "      <td>Рецепт вишневой наливки</td>\n",
       "      <td>{'Вишня': '1 кг', 'Водка': '1 л', 'Сахар': '30...</td>\n",
       "      <td>Вишневая наливка имеет яркий вишневый вкус, ко...</td>\n",
       "    </tr>\n",
       "    <tr>\n",
       "      <th>...</th>\n",
       "      <td>...</td>\n",
       "      <td>...</td>\n",
       "      <td>...</td>\n",
       "      <td>...</td>\n",
       "    </tr>\n",
       "    <tr>\n",
       "      <th>3462</th>\n",
       "      <td>https://www.povarenok.ru/recipes/show/54574/</td>\n",
       "      <td>Мшош</td>\n",
       "      <td>{'Чечевица': '1 стак.', 'Лук репчатый': '2 шт'...</td>\n",
       "      <td>Для тех, кто любит чечевицу... Вам сюда! Очень...</td>\n",
       "    </tr>\n",
       "    <tr>\n",
       "      <th>3463</th>\n",
       "      <td>https://www.povarenok.ru/recipes/show/113494/</td>\n",
       "      <td>Мясные треугольники с баклажаном</td>\n",
       "      <td>{'Фарш мясной': '400 г', 'Баклажан': '1 шт', '...</td>\n",
       "      <td>Баклажановые фантазии продолжаются! Предлагаю ...</td>\n",
       "    </tr>\n",
       "    <tr>\n",
       "      <th>3464</th>\n",
       "      <td>https://www.povarenok.ru/recipes/show/83228/</td>\n",
       "      <td>\"Болоньез\" по-новому</td>\n",
       "      <td>{'Фарш мясной': '400 г', 'Томаты в собственном...</td>\n",
       "      <td>Мое любимое блюдо лазанья. Но кушать только фа...</td>\n",
       "    </tr>\n",
       "    <tr>\n",
       "      <th>3465</th>\n",
       "      <td>https://www.povarenok.ru/recipes/show/172238/</td>\n",
       "      <td>Варенье из одуванчиков с апельсинами</td>\n",
       "      <td>{'Цветки': '400 г', 'Сахар': '1300 г', 'Апельс...</td>\n",
       "      <td>Прошлым летом варила варенье из одуванчиков по...</td>\n",
       "    </tr>\n",
       "    <tr>\n",
       "      <th>3466</th>\n",
       "      <td>https://www.povarenok.ru/recipes/show/52794/</td>\n",
       "      <td>Три корочки хлеба под соусом болоньез для Пино...</td>\n",
       "      <td>{'Хлеб': '3 шт', 'Фарш мясной': '200-250 г', '...</td>\n",
       "      <td>- И три корочки хлеба! - сделал заказ Буратино...</td>\n",
       "    </tr>\n",
       "  </tbody>\n",
       "</table>\n",
       "<p>3467 rows × 4 columns</p>\n",
       "</div>"
      ],
      "text/plain": [
       "                                                url  \\\n",
       "0     https://www.povarenok.ru/recipes/show/164365/   \n",
       "1       https://www.povarenok.ru/recipes/show/1306/   \n",
       "2      https://www.povarenok.ru/recipes/show/10625/   \n",
       "3     https://www.povarenok.ru/recipes/show/167337/   \n",
       "4      https://www.povarenok.ru/recipes/show/91919/   \n",
       "...                                             ...   \n",
       "3462   https://www.povarenok.ru/recipes/show/54574/   \n",
       "3463  https://www.povarenok.ru/recipes/show/113494/   \n",
       "3464   https://www.povarenok.ru/recipes/show/83228/   \n",
       "3465  https://www.povarenok.ru/recipes/show/172238/   \n",
       "3466   https://www.povarenok.ru/recipes/show/52794/   \n",
       "\n",
       "                                                   name  \\\n",
       "0                    Густой молочно-клубничный коктейль   \n",
       "1                                              Рулетики   \n",
       "2                                   Салат \"Баклажанчик\"   \n",
       "3         Куриные котлеты с картофельным пюре в духовке   \n",
       "4                               Рецепт вишневой наливки   \n",
       "...                                                 ...   \n",
       "3462                                               Мшош   \n",
       "3463                   Мясные треугольники с баклажаном   \n",
       "3464                               \"Болоньез\" по-новому   \n",
       "3465               Варенье из одуванчиков с апельсинами   \n",
       "3466  Три корочки хлеба под соусом болоньез для Пино...   \n",
       "\n",
       "                                            ingredients  \\\n",
       "0     {'Молоко': '250 мл', 'Клубника': '200 г', 'Сах...   \n",
       "1     {'Сыр твердый': None, 'Чеснок': None, 'Яйцо ку...   \n",
       "2     {'Баклажан': '3 шт', 'Лук репчатый': '2 шт', '...   \n",
       "3     {'Фарш куриный': '800 г', 'Пюре картофельное':...   \n",
       "4     {'Вишня': '1 кг', 'Водка': '1 л', 'Сахар': '30...   \n",
       "...                                                 ...   \n",
       "3462  {'Чечевица': '1 стак.', 'Лук репчатый': '2 шт'...   \n",
       "3463  {'Фарш мясной': '400 г', 'Баклажан': '1 шт', '...   \n",
       "3464  {'Фарш мясной': '400 г', 'Томаты в собственном...   \n",
       "3465  {'Цветки': '400 г', 'Сахар': '1300 г', 'Апельс...   \n",
       "3466  {'Хлеб': '3 шт', 'Фарш мясной': '200-250 г', '...   \n",
       "\n",
       "                                            description  \n",
       "0     Этот коктейль готовлю из замороженной клубники...  \n",
       "1                                      Быстро и вкусно.  \n",
       "2           Сытный, овощной салатик, пальчики оближете.  \n",
       "3     Картофельное пюре и куриные котлеты - вкусная ...  \n",
       "4     Вишневая наливка имеет яркий вишневый вкус, ко...  \n",
       "...                                                 ...  \n",
       "3462  Для тех, кто любит чечевицу... Вам сюда! Очень...  \n",
       "3463  Баклажановые фантазии продолжаются! Предлагаю ...  \n",
       "3464  Мое любимое блюдо лазанья. Но кушать только фа...  \n",
       "3465  Прошлым летом варила варенье из одуванчиков по...  \n",
       "3466  - И три корочки хлеба! - сделал заказ Буратино...  \n",
       "\n",
       "[3467 rows x 4 columns]"
      ]
     },
     "execution_count": 15,
     "metadata": {},
     "output_type": "execute_result"
    }
   ],
   "source": [
    "df = pd.read_csv('ru_recipes_sample.csv')\n",
    "df"
   ]
  },
  {
   "cell_type": "code",
   "execution_count": 16,
   "id": "20f3fcd6",
   "metadata": {},
   "outputs": [],
   "source": [
    "df['description'] = df['description'].apply(lambda x: word_tokenize(x))"
   ]
  },
  {
   "cell_type": "code",
   "execution_count": 19,
   "id": "8309cc39",
   "metadata": {},
   "outputs": [],
   "source": [
    "arr = df['description'].values.copy()\n",
    "arr1 = []\n",
    "for lst in arr:\n",
    "    for i in lst:\n",
    "        if i.isalpha() and i not in arr1:\n",
    "            arr1.append(i)"
   ]
  },
  {
   "cell_type": "code",
   "execution_count": 150,
   "id": "cff3b128",
   "metadata": {},
   "outputs": [],
   "source": [
    "arr2 = []\n",
    "for lst in arr:\n",
    "    for i in lst:\n",
    "        arr2.append(i)\n"
   ]
  },
  {
   "attachments": {
    "image.png": {
     "image/png": "[encoded data removed]"
    }
   },
   "cell_type": "markdown",
   "id": "a10df868",
   "metadata": {},
   "source": [
    "![image.png](attachment:image.png)"
   ]
  },
  {
   "cell_type": "code",
   "execution_count": 55,
   "id": "ccae1a64",
   "metadata": {},
   "outputs": [
    {
     "name": "stdout",
     "output_type": "stream",
     "text": [
      "['Земле' 'крошки' 'творог' 'отдыхающим' 'осьминогов'] ['проста' 'семейными' 'короче' 'процеженного' 'Пикантное']\n"
     ]
    }
   ],
   "source": [
    "words1 = np.random.choice(arr1, 5)\n",
    "words2 = np.random.choice(arr1, 5)\n",
    "print(words1, words2)"
   ]
  },
  {
   "cell_type": "code",
   "execution_count": 56,
   "id": "7f1ac64a",
   "metadata": {},
   "outputs": [
    {
     "data": {
      "text/plain": [
       "[6, 8, 4, 11, 8]"
      ]
     },
     "execution_count": 56,
     "metadata": {},
     "output_type": "execute_result"
    }
   ],
   "source": [
    "distance = []\n",
    "for i in range(5):\n",
    "    distance.append(edit_distance(words1[i], words2[i]))\n",
    "distance"
   ]
  },
  {
   "cell_type": "code",
   "execution_count": 57,
   "id": "a38d3348",
   "metadata": {},
   "outputs": [],
   "source": [
    "distances = pd.DataFrame(data = (words1, words2, distance)).T\n",
    "distances = distances.rename(columns = {0: '1st_wors', 1: '2nd_word', 2: 'distance'})"
   ]
  },
  {
   "cell_type": "code",
   "execution_count": 58,
   "id": "19458712",
   "metadata": {},
   "outputs": [
    {
     "data": {
      "text/html": [
       "<div>\n",
       "<style scoped>\n",
       "    .dataframe tbody tr th:only-of-type {\n",
       "        vertical-align: middle;\n",
       "    }\n",
       "\n",
       "    .dataframe tbody tr th {\n",
       "        vertical-align: top;\n",
       "    }\n",
       "\n",
       "    .dataframe thead th {\n",
       "        text-align: right;\n",
       "    }\n",
       "</style>\n",
       "<table border=\"1\" class=\"dataframe\">\n",
       "  <thead>\n",
       "    <tr style=\"text-align: right;\">\n",
       "      <th></th>\n",
       "      <th>1st_wors</th>\n",
       "      <th>2nd_word</th>\n",
       "      <th>distance</th>\n",
       "    </tr>\n",
       "  </thead>\n",
       "  <tbody>\n",
       "    <tr>\n",
       "      <th>0</th>\n",
       "      <td>Земле</td>\n",
       "      <td>проста</td>\n",
       "      <td>6</td>\n",
       "    </tr>\n",
       "    <tr>\n",
       "      <th>1</th>\n",
       "      <td>крошки</td>\n",
       "      <td>семейными</td>\n",
       "      <td>8</td>\n",
       "    </tr>\n",
       "    <tr>\n",
       "      <th>2</th>\n",
       "      <td>творог</td>\n",
       "      <td>короче</td>\n",
       "      <td>4</td>\n",
       "    </tr>\n",
       "    <tr>\n",
       "      <th>3</th>\n",
       "      <td>отдыхающим</td>\n",
       "      <td>процеженного</td>\n",
       "      <td>11</td>\n",
       "    </tr>\n",
       "    <tr>\n",
       "      <th>4</th>\n",
       "      <td>осьминогов</td>\n",
       "      <td>Пикантное</td>\n",
       "      <td>8</td>\n",
       "    </tr>\n",
       "  </tbody>\n",
       "</table>\n",
       "</div>"
      ],
      "text/plain": [
       "     1st_wors      2nd_word distance\n",
       "0       Земле        проста        6\n",
       "1      крошки     семейными        8\n",
       "2      творог        короче        4\n",
       "3  отдыхающим  процеженного       11\n",
       "4  осьминогов     Пикантное        8"
      ]
     },
     "execution_count": 58,
     "metadata": {},
     "output_type": "execute_result"
    }
   ],
   "source": [
    "distances"
   ]
  },
  {
   "attachments": {
    "image.png": {
     "image/png": "[encoded data removed]"
    }
   },
   "cell_type": "markdown",
   "id": "41520c5e",
   "metadata": {},
   "source": [
    "![image.png](attachment:image.png)"
   ]
  },
  {
   "cell_type": "code",
   "execution_count": 88,
   "id": "8d400525",
   "metadata": {},
   "outputs": [
    {
     "data": {
      "text/plain": [
       "array(['мама', 'мам', 'мамам', 'маме', 'Мама', 'маша', 'Зама', 'сама',\n",
       "       'Сама', 'мамы'], dtype='<U21')"
      ]
     },
     "execution_count": 88,
     "metadata": {},
     "output_type": "execute_result"
    }
   ],
   "source": [
    "def knw(word, k):\n",
    "    dists = np.array([])\n",
    "    for i in arr1:\n",
    "        dists = np.append(dists, edit_distance(word, i, substitution_cost = 2))\n",
    "    dists = np.argsort(dists)[:k]\n",
    "    arr2 = np.array(arr1)\n",
    "    return(arr2[dists])\n",
    "knw('мама', 10)"
   ]
  },
  {
   "attachments": {
    "image.png": {
     "image/png": "[encoded data removed]"
    }
   },
   "cell_type": "markdown",
   "id": "b5080496",
   "metadata": {},
   "source": [
    "![image.png](attachment:image.png)"
   ]
  },
  {
   "cell_type": "code",
   "execution_count": 140,
   "id": "8a3b74f3",
   "metadata": {},
   "outputs": [],
   "source": [
    "snb_stemmer_ru = SnowballStemmer('russian')\n",
    "stemmed_word = snb_stemmer_ru.stem('мама')\n",
    "morph = pymorphy2.MorphAnalyzer()\n",
    "p = morph.parse('мама')\n",
    "normalized_word = p[0].normal_form\n",
    "df1 = pd.DataFrame(data = arr1)\n",
    "df1['stemmed_word'] = df1[0].apply(lambda x: snb_stemmer_ru.stem(x))\n",
    "df1['normalized_word'] = df1[0].apply(lambda x: morph.parse(x)[0].normal_form)\n",
    "df1 = df1.rename(columns = {0: 'Word'})"
   ]
  },
  {
   "cell_type": "code",
   "execution_count": 141,
   "id": "0364d6ad",
   "metadata": {},
   "outputs": [],
   "source": [
    "df1 = df1.set_index('Word')"
   ]
  },
  {
   "cell_type": "code",
   "execution_count": 142,
   "id": "898a2ab8",
   "metadata": {},
   "outputs": [
    {
     "data": {
      "text/html": [
       "<div>\n",
       "<style scoped>\n",
       "    .dataframe tbody tr th:only-of-type {\n",
       "        vertical-align: middle;\n",
       "    }\n",
       "\n",
       "    .dataframe tbody tr th {\n",
       "        vertical-align: top;\n",
       "    }\n",
       "\n",
       "    .dataframe thead th {\n",
       "        text-align: right;\n",
       "    }\n",
       "</style>\n",
       "<table border=\"1\" class=\"dataframe\">\n",
       "  <thead>\n",
       "    <tr style=\"text-align: right;\">\n",
       "      <th></th>\n",
       "      <th>stemmed_word</th>\n",
       "      <th>normalized_word</th>\n",
       "    </tr>\n",
       "    <tr>\n",
       "      <th>Word</th>\n",
       "      <th></th>\n",
       "      <th></th>\n",
       "    </tr>\n",
       "  </thead>\n",
       "  <tbody>\n",
       "    <tr>\n",
       "      <th>Этот</th>\n",
       "      <td>этот</td>\n",
       "      <td>этот</td>\n",
       "    </tr>\n",
       "    <tr>\n",
       "      <th>коктейль</th>\n",
       "      <td>коктейл</td>\n",
       "      <td>коктейль</td>\n",
       "    </tr>\n",
       "    <tr>\n",
       "      <th>готовлю</th>\n",
       "      <td>готовл</td>\n",
       "      <td>готовить</td>\n",
       "    </tr>\n",
       "    <tr>\n",
       "      <th>из</th>\n",
       "      <td>из</td>\n",
       "      <td>из</td>\n",
       "    </tr>\n",
       "    <tr>\n",
       "      <th>замороженной</th>\n",
       "      <td>заморожен</td>\n",
       "      <td>заморозить</td>\n",
       "    </tr>\n",
       "    <tr>\n",
       "      <th>...</th>\n",
       "      <td>...</td>\n",
       "      <td>...</td>\n",
       "    </tr>\n",
       "    <tr>\n",
       "      <th>сбывается</th>\n",
       "      <td>сбыва</td>\n",
       "      <td>сбываться</td>\n",
       "    </tr>\n",
       "    <tr>\n",
       "      <th>подружим</th>\n",
       "      <td>подруж</td>\n",
       "      <td>подружить</td>\n",
       "    </tr>\n",
       "    <tr>\n",
       "      <th>одинаковых</th>\n",
       "      <td>одинаков</td>\n",
       "      <td>одинаковый</td>\n",
       "    </tr>\n",
       "    <tr>\n",
       "      <th>задорных</th>\n",
       "      <td>задорн</td>\n",
       "      <td>задорный</td>\n",
       "    </tr>\n",
       "    <tr>\n",
       "      <th>мальчишек</th>\n",
       "      <td>мальчишек</td>\n",
       "      <td>мальчишка</td>\n",
       "    </tr>\n",
       "  </tbody>\n",
       "</table>\n",
       "<p>17890 rows × 2 columns</p>\n",
       "</div>"
      ],
      "text/plain": [
       "             stemmed_word normalized_word\n",
       "Word                                     \n",
       "Этот                 этот            этот\n",
       "коктейль          коктейл        коктейль\n",
       "готовлю            готовл        готовить\n",
       "из                     из              из\n",
       "замороженной    заморожен      заморозить\n",
       "...                   ...             ...\n",
       "сбывается           сбыва       сбываться\n",
       "подружим           подруж       подружить\n",
       "одинаковых       одинаков      одинаковый\n",
       "задорных           задорн        задорный\n",
       "мальчишек       мальчишек       мальчишка\n",
       "\n",
       "[17890 rows x 2 columns]"
      ]
     },
     "execution_count": 142,
     "metadata": {},
     "output_type": "execute_result"
    }
   ],
   "source": [
    "df1"
   ]
  },
  {
   "attachments": {
    "image.png": {
     "image/png": "[encoded data removed]"
    }
   },
   "cell_type": "markdown",
   "id": "337a4ef5",
   "metadata": {},
   "source": [
    "![image.png](attachment:image.png)"
   ]
  },
  {
   "cell_type": "code",
   "execution_count": 173,
   "id": "1a60e2e6",
   "metadata": {},
   "outputs": [],
   "source": [
    "p = re.compile('^[а-яА-ЯёЁ*&]')\n",
    "arr2 = [i for i in arr2 if p.search(i)]\n",
    "ru_stop_words = stopwords.words('russian')\n",
    "a = [w.lower() for w in arr2 if w.lower() not in ru_stop_words]\n"
   ]
  },
  {
   "cell_type": "code",
   "execution_count": 175,
   "id": "03029ccf",
   "metadata": {},
   "outputs": [
    {
     "name": "stdout",
     "output_type": "stream",
     "text": [
      "Доля стоп-слов 0.32368831675443727\n"
     ]
    }
   ],
   "source": [
    "print(f'Доля стоп-слов {(len(arr2) - len(a))/ len(arr2)}')"
   ]
  },
  {
   "cell_type": "code",
   "execution_count": 193,
   "id": "562a175e",
   "metadata": {},
   "outputs": [
    {
     "name": "stdout",
     "output_type": "stream",
     "text": [
      "Топ-10 до удаления стоп-слов:\n",
      "и        4822\n",
      "в        2304\n",
      "с        1850\n",
      "на       1504\n",
      "не       1427\n",
      "очень    1123\n",
      "из        977\n",
      "я         752\n",
      "что       732\n",
      "для       686\n",
      "dtype: int64\n",
      "\n",
      "Топ-10 после удаления стоп-слов:\n",
      "очень          1608\n",
      "рецепт          869\n",
      "это             733\n",
      "блюдо           525\n",
      "вкусный         461\n",
      "просто          436\n",
      "вкусно          378\n",
      "приготовить     344\n",
      "вкус            323\n",
      "салат           313\n",
      "dtype: int64\n"
     ]
    }
   ],
   "source": [
    "arr2 = [i for i in arr2 if p.search(i)]\n",
    "do_ud = pd.Series(arr2)\n",
    "posle_ud = pd.Series(a)\n",
    "print(f'Топ-10 до удаления стоп-слов:\\n{do_ud.value_counts()[:10]}')\n",
    "print()\n",
    "print(f'Топ-10 после удаления стоп-слов:\\n{posle_ud.value_counts()[:10]}')"
   ]
  },
  {
   "cell_type": "code",
   "execution_count": null,
   "id": "a480ca92",
   "metadata": {},
   "outputs": [],
   "source": []
  },
  {
   "cell_type": "code",
   "execution_count": null,
   "id": "705f07f9",
   "metadata": {},
   "outputs": [],
   "source": []
  }
 ],
 "metadata": {
  "kernelspec": {
   "display_name": "Python 3",
   "language": "python",
   "name": "python3"
  },
  "language_info": {
   "codemirror_mode": {
    "name": "ipython",
    "version": 3
   },
   "file_extension": ".py",
   "mimetype": "text/x-python",
   "name": "python",
   "nbconvert_exporter": "python",
   "pygments_lexer": "ipython3",
   "version": "3.8.8"
  }
 },
 "nbformat": 4,
 "nbformat_minor": 5
}
